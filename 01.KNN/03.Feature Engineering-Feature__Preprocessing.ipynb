{
 "cells": [
  {
   "cell_type": "markdown",
   "metadata": {},
   "source": [
    "# Normalization"
   ]
  },
  {
   "cell_type": "markdown",
   "metadata": {},
   "source": [
    "## Definition  \n",
    "- Mapping the data to (the default is [0,1]) by transforming the original data"
   ]
  },
  {
   "cell_type": "markdown",
   "metadata": {},
   "source": [
    "## Formula  \n",
    "$ X^{\\prime}=\\frac{x-\\min }{\\max -\\min } $  \n",
    "$ X^{\\prime \\prime}=X^{\\prime} *(m x-m i)+m i $"
   ]
  },
  {
   "cell_type": "markdown",
   "metadata": {},
   "source": [
    "## API  \n",
    "- sklearn.preprocessing.MinMaxScaler (feature_range=(0,1)…)\n",
    "MinMaxScalar.fit_transform(X)\n",
    "X: numpy array format data [n_samples,n_features]\n",
    "Return value: Array with the same shape after conversion"
   ]
  },
  {
   "cell_type": "markdown",
   "metadata": {},
   "source": [
    "## Data calculation"
   ]
  },
  {
   "cell_type": "markdown",
   "metadata": {},
   "source": [
    "- We perform calculations on the following data,saved in dating.txt"
   ]
  },
  {
   "cell_type": "code",
   "execution_count": 3,
   "metadata": {},
   "outputs": [
    {
     "name": "stderr",
     "output_type": "stream",
     "text": [
      "<frozen importlib._bootstrap>:219: RuntimeWarning: numpy.ufunc size changed, may indicate binary incompatibility. Expected 192 from C header, got 216 from PyObject\n"
     ]
    }
   ],
   "source": [
    "import pandas as pd\n",
    "from sklearn.preprocessing import MinMaxScaler"
   ]
  },
  {
   "cell_type": "code",
   "execution_count": 34,
   "metadata": {},
   "outputs": [],
   "source": [
    "def minmax_demo():\n",
    "    \"\"\"\n",
    "    Perfomance of the normalization\n",
    "    :return: None\n",
    "    \"\"\"\n",
    "    # import the dataset\n",
    "    \n",
    "    data = pd.read_csv(\"./data/dating.txt\")\n",
    "    print(\"original data: \")\n",
    "    print(data)\n",
    "    print()\n",
    "    \n",
    "    # 1. insttantiate a MinMaxscaler class\n",
    "    transfer = MinMaxScaler()\n",
    "    \n",
    "    # 2. use the fit_transform,update the data\n",
    "    data = transfer.fit_transform(data[[\"milage\", \"Liters\", \"Consumtime\"]])\n",
    "    print(\"After the normalization:\")\n",
    "    print(data)\n",
    "    \n",
    "    return None"
   ]
  },
  {
   "cell_type": "code",
   "execution_count": 35,
   "metadata": {},
   "outputs": [
    {
     "name": "stdout",
     "output_type": "stream",
     "text": [
      "original data: \n",
      "     milage     Liters  Consumtime  target\n",
      "0     40920   8.326976    0.953952       3\n",
      "1     14488   7.153469    1.673904       2\n",
      "2     26052   1.441871    0.805124       1\n",
      "3     75136  13.147394    0.428964       1\n",
      "4     38344   1.669788    0.134296       1\n",
      "..      ...        ...         ...     ...\n",
      "995   11145   3.410627    0.631838       2\n",
      "996   68846   9.974715    0.669787       1\n",
      "997   26575  10.650102    0.866627       3\n",
      "998   48111   9.134528    0.728045       3\n",
      "999   43757   7.882601    1.332446       3\n",
      "\n",
      "[1000 rows x 4 columns]\n",
      "\n",
      "After the normalization:\n",
      "[[0.44832535 0.39805139 0.56233353]\n",
      " [0.15873259 0.34195467 0.98724416]\n",
      " [0.28542943 0.06892523 0.47449629]\n",
      " ...\n",
      " [0.29115949 0.50910294 0.51079493]\n",
      " [0.52711097 0.43665451 0.4290048 ]\n",
      " [0.47940793 0.3768091  0.78571804]]\n"
     ]
    }
   ],
   "source": [
    "minmax_demo()"
   ]
  },
  {
   "cell_type": "markdown",
   "metadata": {},
   "source": [
    "# Standardization"
   ]
  },
  {
   "cell_type": "markdown",
   "metadata": {},
   "source": [
    "## Definition"
   ]
  },
  {
   "cell_type": "markdown",
   "metadata": {},
   "source": [
    "- By transforming the original data, the data is transformed to a mean value of 0 and a standard deviation of 1"
   ]
  },
  {
   "cell_type": "markdown",
   "metadata": {},
   "source": [
    "## Formula"
   ]
  },
  {
   "cell_type": "markdown",
   "metadata": {},
   "source": [
    "$ X^{\\prime}=\\frac{x-\\text { mean }}{\\sigma} $"
   ]
  },
  {
   "cell_type": "markdown",
   "metadata": {},
   "source": [
    "## API"
   ]
  },
  {
   "cell_type": "markdown",
   "metadata": {},
   "source": [
    "sklearn.preprocessing.StandardScaler()  \n",
    "After processing, for each column, all data are clustered around the mean 0 and the standard deviation is 1.  \n",
    "StandardScaler.fit_transform(X)  \n",
    "X: numpy array format data [n_samples,n_features]  \n",
    "Return value: Array with the same shape after conversion"
   ]
  },
  {
   "cell_type": "markdown",
   "metadata": {},
   "source": [
    "## Data calculation"
   ]
  },
  {
   "cell_type": "code",
   "execution_count": 25,
   "metadata": {},
   "outputs": [],
   "source": [
    "import pandas as pd\n",
    "from sklearn.preprocessing import StandardScaler"
   ]
  },
  {
   "cell_type": "code",
   "execution_count": 32,
   "metadata": {},
   "outputs": [],
   "source": [
    "def stand_demo():\n",
    "    \"\"\"\n",
    "    performance of the standardlization\n",
    "    return None\n",
    "    \"\"\"\n",
    "    # import the dataset\n",
    "    \n",
    "    data = pd.read_csv(\"./data/dating.txt\")\n",
    "    print(\"original data: \")\n",
    "    print(data)\n",
    "    print()\n",
    "    # 1. Instantiate StandardScaler\n",
    "    transfer = StandardScaler()\n",
    "    \n",
    "    # 2. Transform by fit_transform\n",
    "    data = transfer.fit_transform(data[[\"milage\", \"Liters\", \"Consumtime\"]])\n",
    "    print(\"After the standardlization:\")\n",
    "    print(data)\n",
    "    print(\"the mean of every feature\")\n",
    "    print(transfer.mean_)\n",
    "    print(\"the variance of every feature\")\n",
    "    print(transfer.var_)\n",
    "    \n",
    "    return None"
   ]
  },
  {
   "cell_type": "code",
   "execution_count": 33,
   "metadata": {},
   "outputs": [
    {
     "name": "stdout",
     "output_type": "stream",
     "text": [
      "original data: \n",
      "     milage     Liters  Consumtime  target\n",
      "0     40920   8.326976    0.953952       3\n",
      "1     14488   7.153469    1.673904       2\n",
      "2     26052   1.441871    0.805124       1\n",
      "3     75136  13.147394    0.428964       1\n",
      "4     38344   1.669788    0.134296       1\n",
      "..      ...        ...         ...     ...\n",
      "995   11145   3.410627    0.631838       2\n",
      "996   68846   9.974715    0.669787       1\n",
      "997   26575  10.650102    0.866627       3\n",
      "998   48111   9.134528    0.728045       3\n",
      "999   43757   7.882601    1.332446       3\n",
      "\n",
      "[1000 rows x 4 columns]\n",
      "\n",
      "After the standardlization:\n",
      "[[ 0.33193158  0.41660188  0.24523407]\n",
      " [-0.87247784  0.13992897  1.69385734]\n",
      " [-0.34554872 -1.20667094 -0.05422437]\n",
      " ...\n",
      " [-0.32171752  0.96431572  0.06952649]\n",
      " [ 0.65959911  0.60699509 -0.20931587]\n",
      " [ 0.46120328  0.31183342  1.00680598]]\n",
      "the mean of every feature\n",
      "[3.36354210e+04 6.55996083e+00 8.32072997e-01]\n",
      "the variance of every feature\n",
      "[4.81628039e+08 1.79902874e+01 2.46999554e-01]\n"
     ]
    }
   ],
   "source": [
    "stand_demo()"
   ]
  },
  {
   "cell_type": "code",
   "execution_count": null,
   "metadata": {},
   "outputs": [],
   "source": []
  }
 ],
 "metadata": {
  "kernelspec": {
   "display_name": "Python 3",
   "language": "python",
   "name": "python3"
  },
  "language_info": {
   "codemirror_mode": {
    "name": "ipython",
    "version": 3
   },
   "file_extension": ".py",
   "mimetype": "text/x-python",
   "name": "python",
   "nbconvert_exporter": "python",
   "pygments_lexer": "ipython3",
   "version": "3.8.3"
  },
  "toc": {
   "base_numbering": 1,
   "nav_menu": {},
   "number_sections": true,
   "sideBar": true,
   "skip_h1_title": false,
   "title_cell": "Table of Contents",
   "title_sidebar": "Contents",
   "toc_cell": false,
   "toc_position": {},
   "toc_section_display": true,
   "toc_window_display": false
  }
 },
 "nbformat": 4,
 "nbformat_minor": 4
}
