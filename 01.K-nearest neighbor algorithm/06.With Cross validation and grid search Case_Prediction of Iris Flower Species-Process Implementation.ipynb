{
 "cells": [
  {
   "cell_type": "markdown",
   "metadata": {},
   "source": [
    "# K-nearest neighbor algorithm API"
   ]
  },
  {
   "cell_type": "markdown",
   "metadata": {},
   "source": [
    "sklearn.neighbors.KNeighborsClassifier(n_neighbors=5,algorithm='auto')  \n",
    "n_neighbors：  \n",
    "int, optional (default = 5), k_neighbors queries the number of neighbors used by default  \n",
    "algorithm：{‘auto’，‘ball_tree’，‘kd_tree’，‘brute’}  "
   ]
  },
  {
   "cell_type": "markdown",
   "metadata": {},
   "source": [
    "# Case: Prediction of iris flower species with K tuning"
   ]
  },
  {
   "cell_type": "markdown",
   "metadata": {},
   "source": [
    "## Introduction to the data set"
   ]
  },
  {
   "cell_type": "markdown",
   "metadata": {},
   "source": [
    "The Iris data set is a commonly used classification experimental data set, collected and organized by Fisher, 1936. Iris is also called the iris flower data set, which is a type of data set for multivariate analysis."
   ]
  },
  {
   "cell_type": "markdown",
   "metadata": {},
   "source": [
    "## Analysis Step"
   ]
  },
  {
   "cell_type": "markdown",
   "metadata": {},
   "source": [
    "1. Get the data set\n",
    "2. Data processing: Split the Dataset\n",
    "3. Feature Engineering: Normalization and standardization\n",
    "4. Machine learning (model training)\n",
    "5. Model evaluation"
   ]
  },
  {
   "cell_type": "markdown",
   "metadata": {},
   "source": [
    "## Code"
   ]
  },
  {
   "cell_type": "markdown",
   "metadata": {},
   "source": [
    "### Import module"
   ]
  },
  {
   "cell_type": "code",
   "execution_count": 80,
   "metadata": {},
   "outputs": [],
   "source": [
    "from sklearn.datasets import load_iris\n",
    "from sklearn.model_selection import train_test_split, GridSearchCV\n",
    "from sklearn.preprocessing import StandardScaler\n",
    "from sklearn.neighbors import KNeighborsClassifier\n"
   ]
  },
  {
   "cell_type": "markdown",
   "metadata": {},
   "source": [
    "### Get the data set "
   ]
  },
  {
   "cell_type": "markdown",
   "metadata": {},
   "source": [
    "1. Get the dataset by instantiate the load_iris"
   ]
  },
  {
   "cell_type": "code",
   "execution_count": 81,
   "metadata": {},
   "outputs": [],
   "source": [
    "iris = load_iris()"
   ]
  },
  {
   "cell_type": "code",
   "execution_count": 82,
   "metadata": {},
   "outputs": [],
   "source": [
    "#iris"
   ]
  },
  {
   "cell_type": "markdown",
   "metadata": {},
   "source": [
    "### Data Processing: divide the data set"
   ]
  },
  {
   "cell_type": "code",
   "execution_count": 83,
   "metadata": {},
   "outputs": [],
   "source": [
    "x_train, x_test, y_train, y_test = train_test_split(\n",
    "    iris.data, \n",
    "    iris.target, \n",
    "    test_size = 0.2, \n",
    "    random_state = 22)"
   ]
  },
  {
   "cell_type": "code",
   "execution_count": 84,
   "metadata": {},
   "outputs": [],
   "source": [
    "#print(x_test)"
   ]
  },
  {
   "cell_type": "markdown",
   "metadata": {},
   "source": [
    "### Feature Engineering: Normalization and standardization"
   ]
  },
  {
   "cell_type": "markdown",
   "metadata": {},
   "source": [
    "- Standardization feature variable"
   ]
  },
  {
   "cell_type": "code",
   "execution_count": 85,
   "metadata": {},
   "outputs": [],
   "source": [
    "transfer = StandardScaler()"
   ]
  },
  {
   "cell_type": "code",
   "execution_count": 86,
   "metadata": {},
   "outputs": [],
   "source": [
    "x_train = transfer.fit_transform(x_train)"
   ]
  },
  {
   "cell_type": "code",
   "execution_count": 87,
   "metadata": {},
   "outputs": [],
   "source": [
    "# x_train"
   ]
  },
  {
   "cell_type": "code",
   "execution_count": 88,
   "metadata": {},
   "outputs": [],
   "source": [
    "x_test = transfer.fit_transform(x_test)"
   ]
  },
  {
   "cell_type": "code",
   "execution_count": 89,
   "metadata": {},
   "outputs": [],
   "source": [
    "#x_test"
   ]
  },
  {
   "cell_type": "markdown",
   "metadata": {},
   "source": [
    "### Model training and prediction"
   ]
  },
  {
   "cell_type": "markdown",
   "metadata": {},
   "source": [
    "- Machine learning (model training):  \n",
    " 1. Model selection and tuning-grid search and cross-validation  "
   ]
  },
  {
   "cell_type": "code",
   "execution_count": 142,
   "metadata": {},
   "outputs": [],
   "source": [
    "estimator = KNeighborsClassifier()"
   ]
  },
  {
   "cell_type": "markdown",
   "metadata": {},
   "source": [
    " Parameters"
   ]
  },
  {
   "cell_type": "code",
   "execution_count": 143,
   "metadata": {},
   "outputs": [],
   "source": [
    "param_dict = {\"n_neighbors\":[1,2,3,4,5,6,7]}"
   ]
  },
  {
   "cell_type": "code",
   "execution_count": 144,
   "metadata": {},
   "outputs": [],
   "source": [
    "estimator2 = GridSearchCV(estimator, param_grid = param_dict, cv = 4)"
   ]
  },
  {
   "cell_type": "markdown",
   "metadata": {},
   "source": [
    " 2. Model Training"
   ]
  },
  {
   "cell_type": "code",
   "execution_count": 145,
   "metadata": {},
   "outputs": [
    {
     "data": {
      "text/plain": [
       "GridSearchCV(cv=4, estimator=KNeighborsClassifier(),\n",
       "             param_grid={'n_neighbors': [1, 2, 3, 4, 5, 6, 7]})"
      ]
     },
     "execution_count": 145,
     "metadata": {},
     "output_type": "execute_result"
    }
   ],
   "source": [
    "estimator2.fit(x_train, y_train)"
   ]
  },
  {
   "cell_type": "markdown",
   "metadata": {},
   "source": [
    " 3. Model Prediction"
   ]
  },
  {
   "cell_type": "code",
   "execution_count": 146,
   "metadata": {},
   "outputs": [
    {
     "name": "stdout",
     "output_type": "stream",
     "text": [
      "the predict of y [0 2 1 1 1 1 1 1 1 0 2 1 2 2 0 2 1 1 1 1 0 2 0 1 1 0 1 2 2 1]\n"
     ]
    }
   ],
   "source": [
    "y_predict = estimator2.predict(x_test)\n",
    "print(\"the predict of y\", y_predict)"
   ]
  },
  {
   "cell_type": "markdown",
   "metadata": {},
   "source": [
    "### Model evaluation"
   ]
  },
  {
   "cell_type": "markdown",
   "metadata": {},
   "source": [
    "1. Method 1: Comparison betwwen the truth and the prediction"
   ]
  },
  {
   "cell_type": "code",
   "execution_count": 147,
   "metadata": {},
   "outputs": [
    {
     "name": "stdout",
     "output_type": "stream",
     "text": [
      "the comparison between the truth and the prediction of y [ True  True  True False  True  True  True False  True  True  True  True\n",
      "  True  True  True  True  True  True False  True  True  True  True  True\n",
      " False  True False  True  True False]\n"
     ]
    }
   ],
   "source": [
    "print(\"the comparison between the truth and the prediction of y\", \n",
    "      y_predict == y_test)"
   ]
  },
  {
   "cell_type": "markdown",
   "metadata": {},
   "source": [
    "2. Method 2: Compute the rate of accuracy"
   ]
  },
  {
   "cell_type": "code",
   "execution_count": 148,
   "metadata": {},
   "outputs": [],
   "source": [
    "score = estimator2.score(x_test,y_test)"
   ]
  },
  {
   "cell_type": "code",
   "execution_count": 149,
   "metadata": {},
   "outputs": [
    {
     "name": "stdout",
     "output_type": "stream",
     "text": [
      "the rate of accuracy is:  0.8\n"
     ]
    }
   ],
   "source": [
    "print(\"the rate of accuracy is: \",score)"
   ]
  },
  {
   "cell_type": "markdown",
   "metadata": {},
   "source": [
    " 3. Method of CV and GS:  \n",
    "    Then perform an evaluation to see the final selection result and the cross-validation result"
   ]
  },
  {
   "cell_type": "code",
   "execution_count": 150,
   "metadata": {},
   "outputs": [
    {
     "name": "stdout",
     "output_type": "stream",
     "text": [
      "the best score in the Cross validation:  0.9666666666666668\n"
     ]
    }
   ],
   "source": [
    "print(\"the best score in the Cross validation: \", estimator2.best_score_)"
   ]
  },
  {
   "cell_type": "code",
   "execution_count": 151,
   "metadata": {},
   "outputs": [
    {
     "name": "stdout",
     "output_type": "stream",
     "text": [
      "the best model with K: \n",
      " {'n_neighbors': 3}\n"
     ]
    }
   ],
   "source": [
    "print(\"the best model with K: \\n\",  estimator2.best_params_)"
   ]
  },
  {
   "cell_type": "code",
   "execution_count": 152,
   "metadata": {},
   "outputs": [
    {
     "name": "stdout",
     "output_type": "stream",
     "text": [
      "the result in every cross validation: \n",
      " {'mean_fit_time': array([0.00150049, 0.00075305, 0.00099951, 0.00075179, 0.00100082,\n",
      "       0.0010016 , 0.00050068]), 'std_fit_time': array([4.99010613e-04, 4.34849100e-04, 1.89520277e-06, 4.34053428e-04,\n",
      "       6.82206341e-07, 1.52662378e-06, 5.00680038e-04]), 'mean_score_time': array([0.00500125, 0.00350189, 0.00300086, 0.00325334, 0.00299954,\n",
      "       0.00299847, 0.00299948]), 'std_score_time': array([1.58132610e-03, 5.00444488e-04, 7.07815062e-04, 4.40415473e-04,\n",
      "       1.88486437e-06, 1.78813934e-06, 1.46365513e-06]), 'param_n_neighbors': masked_array(data=[1, 2, 3, 4, 5, 6, 7],\n",
      "             mask=[False, False, False, False, False, False, False],\n",
      "       fill_value='?',\n",
      "            dtype=object), 'params': [{'n_neighbors': 1}, {'n_neighbors': 2}, {'n_neighbors': 3}, {'n_neighbors': 4}, {'n_neighbors': 5}, {'n_neighbors': 6}, {'n_neighbors': 7}], 'split0_test_score': array([0.96666667, 0.96666667, 1.        , 1.        , 1.        ,\n",
      "       1.        , 1.        ]), 'split1_test_score': array([0.93333333, 0.96666667, 0.96666667, 0.96666667, 0.96666667,\n",
      "       0.96666667, 0.96666667]), 'split2_test_score': array([0.93333333, 0.9       , 0.93333333, 0.9       , 0.93333333,\n",
      "       0.93333333, 0.93333333]), 'split3_test_score': array([0.96666667, 0.93333333, 0.96666667, 0.9       , 0.93333333,\n",
      "       0.96666667, 0.96666667]), 'mean_test_score': array([0.95      , 0.94166667, 0.96666667, 0.94166667, 0.95833333,\n",
      "       0.96666667, 0.96666667]), 'std_test_score': array([0.01666667, 0.02763854, 0.02357023, 0.04330127, 0.02763854,\n",
      "       0.02357023, 0.02357023]), 'rank_test_score': array([5, 6, 1, 6, 4, 1, 1])}\n"
     ]
    }
   ],
   "source": [
    "print(\"the result in every cross validation: \\n\",estimator2.cv_results_)"
   ]
  },
  {
   "cell_type": "code",
   "execution_count": 154,
   "metadata": {},
   "outputs": [
    {
     "data": {
      "text/plain": [
       "{'mean_fit_time': array([0.00150049, 0.00075305, 0.00099951, 0.00075179, 0.00100082,\n",
       "        0.0010016 , 0.00050068]),\n",
       " 'std_fit_time': array([4.99010613e-04, 4.34849100e-04, 1.89520277e-06, 4.34053428e-04,\n",
       "        6.82206341e-07, 1.52662378e-06, 5.00680038e-04]),\n",
       " 'mean_score_time': array([0.00500125, 0.00350189, 0.00300086, 0.00325334, 0.00299954,\n",
       "        0.00299847, 0.00299948]),\n",
       " 'std_score_time': array([1.58132610e-03, 5.00444488e-04, 7.07815062e-04, 4.40415473e-04,\n",
       "        1.88486437e-06, 1.78813934e-06, 1.46365513e-06]),\n",
       " 'param_n_neighbors': masked_array(data=[1, 2, 3, 4, 5, 6, 7],\n",
       "              mask=[False, False, False, False, False, False, False],\n",
       "        fill_value='?',\n",
       "             dtype=object),\n",
       " 'params': [{'n_neighbors': 1},\n",
       "  {'n_neighbors': 2},\n",
       "  {'n_neighbors': 3},\n",
       "  {'n_neighbors': 4},\n",
       "  {'n_neighbors': 5},\n",
       "  {'n_neighbors': 6},\n",
       "  {'n_neighbors': 7}],\n",
       " 'split0_test_score': array([0.96666667, 0.96666667, 1.        , 1.        , 1.        ,\n",
       "        1.        , 1.        ]),\n",
       " 'split1_test_score': array([0.93333333, 0.96666667, 0.96666667, 0.96666667, 0.96666667,\n",
       "        0.96666667, 0.96666667]),\n",
       " 'split2_test_score': array([0.93333333, 0.9       , 0.93333333, 0.9       , 0.93333333,\n",
       "        0.93333333, 0.93333333]),\n",
       " 'split3_test_score': array([0.96666667, 0.93333333, 0.96666667, 0.9       , 0.93333333,\n",
       "        0.96666667, 0.96666667]),\n",
       " 'mean_test_score': array([0.95      , 0.94166667, 0.96666667, 0.94166667, 0.95833333,\n",
       "        0.96666667, 0.96666667]),\n",
       " 'std_test_score': array([0.01666667, 0.02763854, 0.02357023, 0.04330127, 0.02763854,\n",
       "        0.02357023, 0.02357023]),\n",
       " 'rank_test_score': array([5, 6, 1, 6, 4, 1, 1])}"
      ]
     },
     "execution_count": 154,
     "metadata": {},
     "output_type": "execute_result"
    }
   ],
   "source": [
    "estimator2.cv_results_"
   ]
  },
  {
   "cell_type": "code",
   "execution_count": null,
   "metadata": {},
   "outputs": [],
   "source": []
  }
 ],
 "metadata": {
  "kernelspec": {
   "display_name": "Python 3",
   "language": "python",
   "name": "python3"
  },
  "language_info": {
   "codemirror_mode": {
    "name": "ipython",
    "version": 3
   },
   "file_extension": ".py",
   "mimetype": "text/x-python",
   "name": "python",
   "nbconvert_exporter": "python",
   "pygments_lexer": "ipython3",
   "version": "3.8.3"
  },
  "toc": {
   "base_numbering": 1,
   "nav_menu": {},
   "number_sections": true,
   "sideBar": true,
   "skip_h1_title": false,
   "title_cell": "Table of Contents",
   "title_sidebar": "Contents",
   "toc_cell": false,
   "toc_position": {},
   "toc_section_display": true,
   "toc_window_display": false
  }
 },
 "nbformat": 4,
 "nbformat_minor": 4
}
